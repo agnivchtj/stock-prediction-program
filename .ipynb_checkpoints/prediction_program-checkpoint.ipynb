{
 "cells": [
  {
   "cell_type": "markdown",
   "metadata": {},
   "source": [
    "# Stock Prediction Program"
   ]
  },
  {
   "cell_type": "code",
   "execution_count": 150,
   "metadata": {},
   "outputs": [],
   "source": [
    "import quandl\n",
    "import numpy as np\n",
    "import pandas as pd\n",
    "\n",
    "import matplotlib.pyplot as plt"
   ]
  },
  {
   "cell_type": "markdown",
   "metadata": {},
   "source": [
    "## Load data\n",
    "\n",
    "For this stock prediction algorithm, we will use Tesla stock price data - curated by Quandl - from the period of 29th June 2010 to 27th March 2018."
   ]
  },
  {
   "cell_type": "code",
   "execution_count": 51,
   "metadata": {},
   "outputs": [
    {
     "name": "stdout",
     "output_type": "stream",
     "text": [
      "                Open      High       Low    Close      Volume  Ex-Dividend  \\\n",
      "Date                                                                         \n",
      "2010-06-29   19.0000   25.0000   17.5400   23.890  18766300.0          0.0   \n",
      "2010-06-30   25.7900   30.4192   23.3000   23.830  17187100.0          0.0   \n",
      "2010-07-01   25.0000   25.9200   20.2700   21.960   8218800.0          0.0   \n",
      "2010-07-02   23.0000   23.1000   18.7100   19.200   5139800.0          0.0   \n",
      "2010-07-06   20.0000   20.0000   15.8300   16.110   6866900.0          0.0   \n",
      "2010-07-07   16.4000   16.6300   14.9800   15.800   6921700.0          0.0   \n",
      "2010-07-08   16.1400   17.5200   15.5700   17.460   7711400.0          0.0   \n",
      "2010-07-09   17.5800   17.9000   16.5500   17.400   4050600.0          0.0   \n",
      "2010-07-12   17.9500   18.0700   17.0000   17.050   2202500.0          0.0   \n",
      "2010-07-13   17.3938   18.6400   16.9000   18.140   2680100.0          0.0   \n",
      "2010-07-14   17.9400   20.1500   17.7601   19.840   4195200.0          0.0   \n",
      "2010-07-15   19.9400   21.5000   19.0000   19.890   3739800.0          0.0   \n",
      "2010-07-16   20.7000   21.3000   20.0500   20.640   2621300.0          0.0   \n",
      "2010-07-19   21.3700   22.2500   20.9200   21.910   2486500.0          0.0   \n",
      "2010-07-20   21.8500   21.8500   20.0500   20.300   1825300.0          0.0   \n",
      "2010-07-21   20.6600   20.9000   19.5000   20.220   1252500.0          0.0   \n",
      "2010-07-22   20.5000   21.2500   20.3700   21.000    957800.0          0.0   \n",
      "2010-07-23   21.1900   21.5600   21.0600   21.290    653600.0          0.0   \n",
      "2010-07-26   21.5000   21.5000   20.3000   20.950    922200.0          0.0   \n",
      "2010-07-27   20.9100   21.1800   20.2600   20.550    619700.0          0.0   \n",
      "2010-07-28   20.5500   20.9000   20.5100   20.720    467200.0          0.0   \n",
      "2010-07-29   20.7700   20.8800   20.0000   20.350    616000.0          0.0   \n",
      "2010-07-30   20.2000   20.4400   19.5500   19.940    426900.0          0.0   \n",
      "2010-08-02   20.5000   20.9700   20.3330   20.920    718100.0          0.0   \n",
      "2010-08-03   21.0000   21.9500   20.8200   21.950   1230500.0          0.0   \n",
      "2010-08-04   21.9500   22.1800   20.8500   21.260    913000.0          0.0   \n",
      "2010-08-05   21.5400   21.5500   20.0500   20.450    796200.0          0.0   \n",
      "2010-08-06   20.1000   20.1601   19.5200   19.590    741900.0          0.0   \n",
      "2010-08-09   19.9000   19.9800   19.4500   19.600    812700.0          0.0   \n",
      "2010-08-10   19.6500   19.6500   18.8200   19.030   1281300.0          0.0   \n",
      "...              ...       ...       ...      ...         ...          ...   \n",
      "2018-02-13  315.0200  324.1900  312.5105  323.660   4506915.0          0.0   \n",
      "2018-02-14  320.8400  326.1700  318.5200  322.310   3930911.0          0.0   \n",
      "2018-02-15  324.5000  334.1200  322.4000  334.065   5892048.0          0.0   \n",
      "2018-02-16  332.5000  343.1200  331.6400  335.490   5585810.0          0.0   \n",
      "2018-02-20  334.4700  340.8400  331.5000  334.770   3996951.0          0.0   \n",
      "2018-02-21  336.0300  339.6929  333.1700  333.300   3181755.0          0.0   \n",
      "2018-02-22  335.5300  347.4400  334.7501  346.170   6940349.0          0.0   \n",
      "2018-02-23  347.8300  354.9900  347.1000  352.050   5790795.0          0.0   \n",
      "2018-02-26  353.5000  359.0000  352.3550  357.420   4312871.0          0.0   \n",
      "2018-02-27  356.2500  359.9900  350.0100  350.990   4761537.0          0.0   \n",
      "2018-02-28  352.5700  355.2400  342.2200  343.060   6042895.0          0.0   \n",
      "2018-03-01  345.0100  348.6700  330.0700  330.930   6885601.0          0.0   \n",
      "2018-03-02  326.9800  335.2200  322.9700  335.120   5092829.0          0.0   \n",
      "2018-03-05  332.3900  337.7500  329.2929  333.350   3823769.0          0.0   \n",
      "2018-03-06  333.7500  336.3700  327.0300  328.200   4285744.0          0.0   \n",
      "2018-03-07  325.4400  332.5000  321.7400  332.300   5007297.0          0.0   \n",
      "2018-03-08  332.8600  333.3000  326.2740  329.100   3476944.0          0.0   \n",
      "2018-03-09  324.1000  328.4900  322.3700  327.170   5479716.0          0.0   \n",
      "2018-03-12  328.6100  347.2100  326.5000  345.510   8212156.0          0.0   \n",
      "2018-03-13  344.9200  345.1200  336.2635  341.840   5932110.0          0.0   \n",
      "2018-03-14  336.7600  339.8100  323.9300  326.630   7932511.0          0.0   \n",
      "2018-03-15  329.3800  332.8500  321.1000  325.600   6366922.0          0.0   \n",
      "2018-03-16  325.9600  327.4000  319.0700  321.350   6058612.0          0.0   \n",
      "2018-03-19  316.5000  320.7500  309.6700  313.560   7440766.0          0.0   \n",
      "2018-03-20  314.8700  316.2500  308.7600  310.550   4726182.0          0.0   \n",
      "2018-03-21  310.2500  322.4400  310.1900  316.530   5927881.0          0.0   \n",
      "2018-03-22  313.8900  318.8200  308.1800  309.100   4914307.0          0.0   \n",
      "2018-03-23  311.2500  311.6100  300.4500  301.540   6600538.0          0.0   \n",
      "2018-03-26  307.3400  307.5900  291.3600  304.180   8324639.0          0.0   \n",
      "2018-03-27  304.0000  304.2700  277.1800  279.180  13696168.0          0.0   \n",
      "\n",
      "            Split Ratio  Adj. Open  Adj. High  Adj. Low  Adj. Close  \\\n",
      "Date                                                                  \n",
      "2010-06-29          1.0    19.0000    25.0000   17.5400      23.890   \n",
      "2010-06-30          1.0    25.7900    30.4192   23.3000      23.830   \n",
      "2010-07-01          1.0    25.0000    25.9200   20.2700      21.960   \n",
      "2010-07-02          1.0    23.0000    23.1000   18.7100      19.200   \n",
      "2010-07-06          1.0    20.0000    20.0000   15.8300      16.110   \n",
      "2010-07-07          1.0    16.4000    16.6300   14.9800      15.800   \n",
      "2010-07-08          1.0    16.1400    17.5200   15.5700      17.460   \n",
      "2010-07-09          1.0    17.5800    17.9000   16.5500      17.400   \n",
      "2010-07-12          1.0    17.9500    18.0700   17.0000      17.050   \n",
      "2010-07-13          1.0    17.3938    18.6400   16.9000      18.140   \n",
      "2010-07-14          1.0    17.9400    20.1500   17.7601      19.840   \n",
      "2010-07-15          1.0    19.9400    21.5000   19.0000      19.890   \n",
      "2010-07-16          1.0    20.7000    21.3000   20.0500      20.640   \n",
      "2010-07-19          1.0    21.3700    22.2500   20.9200      21.910   \n",
      "2010-07-20          1.0    21.8500    21.8500   20.0500      20.300   \n",
      "2010-07-21          1.0    20.6600    20.9000   19.5000      20.220   \n",
      "2010-07-22          1.0    20.5000    21.2500   20.3700      21.000   \n",
      "2010-07-23          1.0    21.1900    21.5600   21.0600      21.290   \n",
      "2010-07-26          1.0    21.5000    21.5000   20.3000      20.950   \n",
      "2010-07-27          1.0    20.9100    21.1800   20.2600      20.550   \n",
      "2010-07-28          1.0    20.5500    20.9000   20.5100      20.720   \n",
      "2010-07-29          1.0    20.7700    20.8800   20.0000      20.350   \n",
      "2010-07-30          1.0    20.2000    20.4400   19.5500      19.940   \n",
      "2010-08-02          1.0    20.5000    20.9700   20.3330      20.920   \n",
      "2010-08-03          1.0    21.0000    21.9500   20.8200      21.950   \n",
      "2010-08-04          1.0    21.9500    22.1800   20.8500      21.260   \n",
      "2010-08-05          1.0    21.5400    21.5500   20.0500      20.450   \n",
      "2010-08-06          1.0    20.1000    20.1601   19.5200      19.590   \n",
      "2010-08-09          1.0    19.9000    19.9800   19.4500      19.600   \n",
      "2010-08-10          1.0    19.6500    19.6500   18.8200      19.030   \n",
      "...                 ...        ...        ...       ...         ...   \n",
      "2018-02-13          1.0   315.0200   324.1900  312.5105     323.660   \n",
      "2018-02-14          1.0   320.8400   326.1700  318.5200     322.310   \n",
      "2018-02-15          1.0   324.5000   334.1200  322.4000     334.065   \n",
      "2018-02-16          1.0   332.5000   343.1200  331.6400     335.490   \n",
      "2018-02-20          1.0   334.4700   340.8400  331.5000     334.770   \n",
      "2018-02-21          1.0   336.0300   339.6929  333.1700     333.300   \n",
      "2018-02-22          1.0   335.5300   347.4400  334.7501     346.170   \n",
      "2018-02-23          1.0   347.8300   354.9900  347.1000     352.050   \n",
      "2018-02-26          1.0   353.5000   359.0000  352.3550     357.420   \n",
      "2018-02-27          1.0   356.2500   359.9900  350.0100     350.990   \n",
      "2018-02-28          1.0   352.5700   355.2400  342.2200     343.060   \n",
      "2018-03-01          1.0   345.0100   348.6700  330.0700     330.930   \n",
      "2018-03-02          1.0   326.9800   335.2200  322.9700     335.120   \n",
      "2018-03-05          1.0   332.3900   337.7500  329.2929     333.350   \n",
      "2018-03-06          1.0   333.7500   336.3700  327.0300     328.200   \n",
      "2018-03-07          1.0   325.4400   332.5000  321.7400     332.300   \n",
      "2018-03-08          1.0   332.8600   333.3000  326.2740     329.100   \n",
      "2018-03-09          1.0   324.1000   328.4900  322.3700     327.170   \n",
      "2018-03-12          1.0   328.6100   347.2100  326.5000     345.510   \n",
      "2018-03-13          1.0   344.9200   345.1200  336.2635     341.840   \n",
      "2018-03-14          1.0   336.7600   339.8100  323.9300     326.630   \n",
      "2018-03-15          1.0   329.3800   332.8500  321.1000     325.600   \n",
      "2018-03-16          1.0   325.9600   327.4000  319.0700     321.350   \n",
      "2018-03-19          1.0   316.5000   320.7500  309.6700     313.560   \n",
      "2018-03-20          1.0   314.8700   316.2500  308.7600     310.550   \n",
      "2018-03-21          1.0   310.2500   322.4400  310.1900     316.530   \n",
      "2018-03-22          1.0   313.8900   318.8200  308.1800     309.100   \n",
      "2018-03-23          1.0   311.2500   311.6100  300.4500     301.540   \n",
      "2018-03-26          1.0   307.3400   307.5900  291.3600     304.180   \n",
      "2018-03-27          1.0   304.0000   304.2700  277.1800     279.180   \n",
      "\n",
      "            Adj. Volume  \n",
      "Date                     \n",
      "2010-06-29   18766300.0  \n",
      "2010-06-30   17187100.0  \n",
      "2010-07-01    8218800.0  \n",
      "2010-07-02    5139800.0  \n",
      "2010-07-06    6866900.0  \n",
      "2010-07-07    6921700.0  \n",
      "2010-07-08    7711400.0  \n",
      "2010-07-09    4050600.0  \n",
      "2010-07-12    2202500.0  \n",
      "2010-07-13    2680100.0  \n",
      "2010-07-14    4195200.0  \n",
      "2010-07-15    3739800.0  \n",
      "2010-07-16    2621300.0  \n",
      "2010-07-19    2486500.0  \n",
      "2010-07-20    1825300.0  \n",
      "2010-07-21    1252500.0  \n",
      "2010-07-22     957800.0  \n",
      "2010-07-23     653600.0  \n",
      "2010-07-26     922200.0  \n",
      "2010-07-27     619700.0  \n",
      "2010-07-28     467200.0  \n",
      "2010-07-29     616000.0  \n",
      "2010-07-30     426900.0  \n",
      "2010-08-02     718100.0  \n",
      "2010-08-03    1230500.0  \n",
      "2010-08-04     913000.0  \n",
      "2010-08-05     796200.0  \n",
      "2010-08-06     741900.0  \n",
      "2010-08-09     812700.0  \n",
      "2010-08-10    1281300.0  \n",
      "...                 ...  \n",
      "2018-02-13    4506915.0  \n",
      "2018-02-14    3930911.0  \n",
      "2018-02-15    5892048.0  \n",
      "2018-02-16    5585810.0  \n",
      "2018-02-20    3996951.0  \n",
      "2018-02-21    3181755.0  \n",
      "2018-02-22    6940349.0  \n",
      "2018-02-23    5790795.0  \n",
      "2018-02-26    4312871.0  \n",
      "2018-02-27    4761537.0  \n",
      "2018-02-28    6042895.0  \n",
      "2018-03-01    6885601.0  \n",
      "2018-03-02    5092829.0  \n",
      "2018-03-05    3823769.0  \n",
      "2018-03-06    4285744.0  \n",
      "2018-03-07    5007297.0  \n",
      "2018-03-08    3476944.0  \n",
      "2018-03-09    5479716.0  \n",
      "2018-03-12    8212156.0  \n",
      "2018-03-13    5932110.0  \n",
      "2018-03-14    7932511.0  \n",
      "2018-03-15    6366922.0  \n",
      "2018-03-16    6058612.0  \n",
      "2018-03-19    7440766.0  \n",
      "2018-03-20    4726182.0  \n",
      "2018-03-21    5927881.0  \n",
      "2018-03-22    4914307.0  \n",
      "2018-03-23    6600538.0  \n",
      "2018-03-26    8324639.0  \n",
      "2018-03-27   13696168.0  \n",
      "\n",
      "[1949 rows x 12 columns]\n"
     ]
    }
   ],
   "source": [
    "df = quandl.get(\"WIKI/TSLA\")\n",
    "\n",
    "print(df)"
   ]
  },
  {
   "cell_type": "markdown",
   "metadata": {},
   "source": [
    "From the stock data above, we can get the adjusted close price of Tesla stock during this period. This metric is useful as it represents the stock's value after accounting for corporate actions such as stock splits, dividends and rights offerings."
   ]
  },
  {
   "cell_type": "code",
   "execution_count": 52,
   "metadata": {},
   "outputs": [
    {
     "name": "stdout",
     "output_type": "stream",
     "text": [
      "            Adj. Close\n",
      "Date                  \n",
      "2010-06-29      23.890\n",
      "2010-06-30      23.830\n",
      "2010-07-01      21.960\n",
      "2010-07-02      19.200\n",
      "2010-07-06      16.110\n",
      "2010-07-07      15.800\n",
      "2010-07-08      17.460\n",
      "2010-07-09      17.400\n",
      "2010-07-12      17.050\n",
      "2010-07-13      18.140\n",
      "2010-07-14      19.840\n",
      "2010-07-15      19.890\n",
      "2010-07-16      20.640\n",
      "2010-07-19      21.910\n",
      "2010-07-20      20.300\n",
      "2010-07-21      20.220\n",
      "2010-07-22      21.000\n",
      "2010-07-23      21.290\n",
      "2010-07-26      20.950\n",
      "2010-07-27      20.550\n",
      "2010-07-28      20.720\n",
      "2010-07-29      20.350\n",
      "2010-07-30      19.940\n",
      "2010-08-02      20.920\n",
      "2010-08-03      21.950\n",
      "2010-08-04      21.260\n",
      "2010-08-05      20.450\n",
      "2010-08-06      19.590\n",
      "2010-08-09      19.600\n",
      "2010-08-10      19.030\n",
      "...                ...\n",
      "2018-02-13     323.660\n",
      "2018-02-14     322.310\n",
      "2018-02-15     334.065\n",
      "2018-02-16     335.490\n",
      "2018-02-20     334.770\n",
      "2018-02-21     333.300\n",
      "2018-02-22     346.170\n",
      "2018-02-23     352.050\n",
      "2018-02-26     357.420\n",
      "2018-02-27     350.990\n",
      "2018-02-28     343.060\n",
      "2018-03-01     330.930\n",
      "2018-03-02     335.120\n",
      "2018-03-05     333.350\n",
      "2018-03-06     328.200\n",
      "2018-03-07     332.300\n",
      "2018-03-08     329.100\n",
      "2018-03-09     327.170\n",
      "2018-03-12     345.510\n",
      "2018-03-13     341.840\n",
      "2018-03-14     326.630\n",
      "2018-03-15     325.600\n",
      "2018-03-16     321.350\n",
      "2018-03-19     313.560\n",
      "2018-03-20     310.550\n",
      "2018-03-21     316.530\n",
      "2018-03-22     309.100\n",
      "2018-03-23     301.540\n",
      "2018-03-26     304.180\n",
      "2018-03-27     279.180\n",
      "\n",
      "[1949 rows x 1 columns]\n"
     ]
    }
   ],
   "source": [
    "df = df[['Adj. Close']]\n",
    "\n",
    "print(df)"
   ]
  },
  {
   "cell_type": "markdown",
   "metadata": {},
   "source": [
    "## Experiments\n",
    "\n",
    "Now we can set up the experiment. We are looking to setup the algorithm by forecasting stock price a certain number of days in advance."
   ]
  },
  {
   "cell_type": "code",
   "execution_count": 53,
   "metadata": {},
   "outputs": [
    {
     "name": "stdout",
     "output_type": "stream",
     "text": [
      "            Adj. Close  Prediction\n",
      "Date                              \n",
      "2010-06-29       23.89       17.90\n",
      "2010-06-30       23.83       17.60\n",
      "2010-07-01       21.96       18.32\n",
      "2010-07-02       19.20       18.78\n",
      "2010-07-06       16.11       19.15\n"
     ]
    }
   ],
   "source": [
    "# We create a variable for predicting 'n' days out into the future\n",
    "n = 30\n",
    "\n",
    "# Create a column which will be the target or dependent variable\n",
    "df['Prediction'] = df[['Adj. Close']].shift(-n)\n",
    "print(df.head())"
   ]
  },
  {
   "cell_type": "markdown",
   "metadata": {},
   "source": [
    "So far with this setup, note that we are forecasting 'n' days out into the future. Thus, as shown below, the next 'n' days from the last data point will not have any predictions yet, i.e. will be missing, and we are looking to forecast the stock prices using the most accurate machine learning model."
   ]
  },
  {
   "cell_type": "code",
   "execution_count": 56,
   "metadata": {},
   "outputs": [
    {
     "name": "stdout",
     "output_type": "stream",
     "text": [
      "            Adj. Close  Prediction\n",
      "Date                              \n",
      "2018-02-08     315.360      301.54\n",
      "2018-02-09     310.110      304.18\n",
      "2018-02-12     315.730      279.18\n",
      "2018-02-13     323.660         NaN\n",
      "2018-02-14     322.310         NaN\n",
      "2018-02-15     334.065         NaN\n",
      "2018-02-16     335.490         NaN\n",
      "2018-02-20     334.770         NaN\n",
      "2018-02-21     333.300         NaN\n",
      "2018-02-22     346.170         NaN\n",
      "2018-02-23     352.050         NaN\n",
      "2018-02-26     357.420         NaN\n",
      "2018-02-27     350.990         NaN\n",
      "2018-02-28     343.060         NaN\n",
      "2018-03-01     330.930         NaN\n",
      "2018-03-02     335.120         NaN\n",
      "2018-03-05     333.350         NaN\n",
      "2018-03-06     328.200         NaN\n",
      "2018-03-07     332.300         NaN\n",
      "2018-03-08     329.100         NaN\n",
      "2018-03-09     327.170         NaN\n",
      "2018-03-12     345.510         NaN\n",
      "2018-03-13     341.840         NaN\n",
      "2018-03-14     326.630         NaN\n",
      "2018-03-15     325.600         NaN\n",
      "2018-03-16     321.350         NaN\n",
      "2018-03-19     313.560         NaN\n",
      "2018-03-20     310.550         NaN\n",
      "2018-03-21     316.530         NaN\n",
      "2018-03-22     309.100         NaN\n",
      "2018-03-23     301.540         NaN\n",
      "2018-03-26     304.180         NaN\n",
      "2018-03-27     279.180         NaN\n"
     ]
    }
   ],
   "source": [
    "print(df[len(df)-33:])"
   ]
  },
  {
   "cell_type": "markdown",
   "metadata": {},
   "source": [
    "We split the data into training and test sets. The training set is used to train and build up the model while the test set (also known as validation set) assesses how well the model performs on previously unseen data."
   ]
  },
  {
   "cell_type": "code",
   "execution_count": 108,
   "metadata": {},
   "outputs": [
    {
     "name": "stdout",
     "output_type": "stream",
     "text": [
      "[[ 23.89]\n",
      " [ 23.83]\n",
      " [ 21.96]\n",
      " ...\n",
      " [315.36]\n",
      " [310.11]\n",
      " [315.73]]\n",
      "\n",
      "[ 17.9   17.6   18.32 ... 301.54 304.18 279.18]\n"
     ]
    }
   ],
   "source": [
    "# Turn the dataset into array\n",
    "X = np.array(df.drop(['Prediction'], 1))\n",
    "\n",
    "# We remove the last 'n' rows which correspond to missing predictions\n",
    "X = X[:-n]\n",
    "\n",
    "\n",
    "# Turn the predictions into array\n",
    "y = np.array(df['Prediction'])\n",
    "\n",
    "# Again, we remove the last 'n' rows which are missing predictions\n",
    "y = y[:-n]\n",
    "\n",
    "print(X)\n",
    "print()\n",
    "print(y)"
   ]
  },
  {
   "cell_type": "code",
   "execution_count": 109,
   "metadata": {},
   "outputs": [
    {
     "name": "stdout",
     "output_type": "stream",
     "text": [
      "[[ 27.66]\n",
      " [352.62]\n",
      " [195.65]\n",
      " ...\n",
      " [ 32.26]\n",
      " [ 28.14]\n",
      " [ 25.3 ]]\n"
     ]
    }
   ],
   "source": [
    "from sklearn.model_selection import train_test_split\n",
    "\n",
    "# We split the data into 80% training and 20% test\n",
    "x_train, x_test, y_train, y_test = train_test_split(X, y, test_size=0.2)\n",
    "\n",
    "print(x_train)"
   ]
  },
  {
   "cell_type": "markdown",
   "metadata": {},
   "source": [
    "We will be training and testing our model using the following algorithms, including Support Vector Machines and Linear Regression. They are effective in performing regression tasks, which involve using prior pattern data to predict numeric scores in the future. Our problem is also an example of a regression task. As linear classifiers, both SVMs and Linear Regression algorithm are parametric models yielding the probability distribution of the data in a finite number of parameters."
   ]
  },
  {
   "cell_type": "code",
   "execution_count": 125,
   "metadata": {},
   "outputs": [],
   "source": [
    "from sklearn.svm import SVR\n",
    "from sklearn.linear_model import LinearRegression\n",
    "from sklearn.linear_model import BayesianRidge\n",
    "from sklearn.linear_model import LassoLars\n",
    "from sklearn.linear_model import ARDRegression\n",
    "from sklearn.linear_model import PassiveAggressiveRegressor\n",
    "from sklearn.linear_model import TheilSenRegressor\n",
    "\n",
    "# Models\n",
    "models = {\n",
    "    \"SVM\": SVR(kernel='rbf', C=1e3, gamma=0.1),\n",
    "    \"LinearRegression\": LinearRegression(),\n",
    "    \"BayesianRidge\": BayesianRidge(),\n",
    "    \"LassoLars\": LassoLars(),\n",
    "    \"ARDRegression\": ARDRegression(),\n",
    "    \"PassiveAggressiveRegressor\": PassiveAggressiveRegressor(),\n",
    "    \"TheilSenRegressor\": TheilSenRegressor()\n",
    "}"
   ]
  },
  {
   "cell_type": "markdown",
   "metadata": {},
   "source": [
    "We can evaluate the performance of these regressor models using the accuracy score of their predictions in comparison to the actual values."
   ]
  },
  {
   "cell_type": "code",
   "execution_count": 136,
   "metadata": {},
   "outputs": [
    {
     "name": "stdout",
     "output_type": "stream",
     "text": [
      "SVM\n",
      "Accuracy:  0.9541407458946876\n",
      "\n",
      "LinearRegression\n",
      "Accuracy:  0.9395085934873311\n",
      "\n",
      "BayesianRidge\n",
      "Accuracy:  0.9395100389569434\n",
      "\n",
      "LassoLars\n",
      "Accuracy:  0.824305030732912\n",
      "\n",
      "ARDRegression\n",
      "Accuracy:  0.9395100389569434\n",
      "\n",
      "PassiveAggressiveRegressor\n",
      "Accuracy:  0.8284399862166176\n",
      "\n",
      "TheilSenRegressor\n",
      "Accuracy:  0.9379102707515445\n",
      "\n",
      "\n"
     ]
    },
    {
     "data": {
      "text/plain": [
       "Text(0, 0.5, 'Predictions')"
      ]
     },
     "execution_count": 136,
     "metadata": {},
     "output_type": "execute_result"
    },
    {
     "data": {
      "image/png": "[encoded data removed]",
      "text/plain": [
       "<Figure size 432x288 with 1 Axes>"
      ]
     },
     "metadata": {
      "needs_background": "light"
     },
     "output_type": "display_data"
    }
   ],
   "source": [
    "accuracies = []\n",
    "\n",
    "for name, model in models.items():\n",
    "    print(name)\n",
    "    model.fit(x_train, y_train)\n",
    "    acc = model.score(x_test, y_test)\n",
    "    accuracies.append(acc)\n",
    "    ##\n",
    "    print(\"Accuracy: \", acc)\n",
    "    print()\n",
    "    \n",
    "\n",
    "print()\n",
    "model = LinearRegression()\n",
    "model.fit(x_train, y_train)\n",
    "plt.scatter(y_test, model.predict(x_test))\n",
    "plt.title(\"Performance of Linear Regression model\")\n",
    "plt.xlabel(\"True prices\")\n",
    "plt.ylabel(\"Predictions\")"
   ]
  },
  {
   "cell_type": "markdown",
   "metadata": {},
   "source": [
    "We can see that Support Vector Machine (SVM) model performed the best with an accuracy score of over 0.95. Thus, we can use SVM to forecast Tesla stock prices for the following 30 days."
   ]
  },
  {
   "cell_type": "code",
   "execution_count": 148,
   "metadata": {},
   "outputs": [
    {
     "name": "stdout",
     "output_type": "stream",
     "text": [
      "[362.21496541 358.01991441 333.41504113 355.56653685 349.62051882\n",
      " 316.67102828 315.07013625 338.46761036 343.0279223  322.07194847\n",
      " 348.07539806 347.05481764 354.16612227 317.42072168 347.45132807\n",
      " 317.65607982 350.39039446 349.65514149 317.13756472 328.33327801\n",
      " 350.89137066 352.1699799  346.2649733  354.10077428 325.3945571\n",
      " 329.510685   338.34230922 334.12067707 326.21425777 244.42859791]\n",
      "\n"
     ]
    }
   ],
   "source": [
    "x_pred = np.array(df.drop(['Prediction'], 1))[-n:]\n",
    "\n",
    "best_model = SVR(kernel='rbf', C=1e3, gamma=0.1)\n",
    "best_model.fit(x_train, y_train)\n",
    "prediction = best_model.predict(x_pred)\n",
    "print(prediction)\n",
    "print()"
   ]
  },
  {
   "cell_type": "markdown",
   "metadata": {},
   "source": [
    "We can output the predicted values above and place them in lieu of the missing predictions seen in our dataframe earlier."
   ]
  },
  {
   "cell_type": "code",
   "execution_count": 152,
   "metadata": {},
   "outputs": [
    {
     "name": "stdout",
     "output_type": "stream",
     "text": [
      "            Adj. Close  Prediction\n",
      "Date                              \n",
      "2018-02-13     323.660  362.214965\n",
      "2018-02-14     322.310  358.019914\n",
      "2018-02-15     334.065  333.415041\n",
      "2018-02-16     335.490  355.566537\n",
      "2018-02-20     334.770  349.620519\n",
      "2018-02-21     333.300  316.671028\n",
      "2018-02-22     346.170  315.070136\n",
      "2018-02-23     352.050  338.467610\n",
      "2018-02-26     357.420  343.027922\n",
      "2018-02-27     350.990  322.071948\n",
      "2018-02-28     343.060  348.075398\n",
      "2018-03-01     330.930  347.054818\n",
      "2018-03-02     335.120  354.166122\n",
      "2018-03-05     333.350  317.420722\n",
      "2018-03-06     328.200  347.451328\n",
      "2018-03-07     332.300  317.656080\n",
      "2018-03-08     329.100  350.390394\n",
      "2018-03-09     327.170  349.655141\n",
      "2018-03-12     345.510  317.137565\n",
      "2018-03-13     341.840  328.333278\n",
      "2018-03-14     326.630  350.891371\n",
      "2018-03-15     325.600  352.169980\n",
      "2018-03-16     321.350  346.264973\n",
      "2018-03-19     313.560  354.100774\n",
      "2018-03-20     310.550  325.394557\n",
      "2018-03-21     316.530  329.510685\n",
      "2018-03-22     309.100  338.342309\n",
      "2018-03-23     301.540  334.120677\n",
      "2018-03-26     304.180  326.214258\n",
      "2018-03-27     279.180  244.428598\n"
     ]
    }
   ],
   "source": [
    "pd.DataFrame(prediction).to_csv(\"stock_predictions_outpt.txt\", index=False, header=False)\n",
    "\n",
    "for i in range(0, n):\n",
    "    df['Prediction'][i + len(df)-30] = best_model.predict(x_pred)[i]\n",
    "\n",
    "print(df[len(df)-30:])"
   ]
  },
  {
   "cell_type": "code",
   "execution_count": null,
   "metadata": {},
   "outputs": [],
   "source": []
  }
 ],
 "metadata": {
  "kernelspec": {
   "display_name": "Python 3",
   "language": "python",
   "name": "python3"
  },
  "language_info": {
   "codemirror_mode": {
    "name": "ipython",
    "version": 3
   },
   "file_extension": ".py",
   "mimetype": "text/x-python",
   "name": "python",
   "nbconvert_exporter": "python",
   "pygments_lexer": "ipython3",
   "version": "3.7.3"
  }
 },
 "nbformat": 4,
 "nbformat_minor": 2
}
